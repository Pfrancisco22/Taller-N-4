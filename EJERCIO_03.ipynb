{
  "nbformat": 4,
  "nbformat_minor": 0,
  "metadata": {
    "colab": {
      "provenance": [],
      "authorship_tag": "ABX9TyNZW56t1yS8fK348pjqwBhb",
      "include_colab_link": true
    },
    "kernelspec": {
      "name": "python3",
      "display_name": "Python 3"
    },
    "language_info": {
      "name": "python"
    }
  },
  "cells": [
    {
      "cell_type": "markdown",
      "metadata": {
        "id": "view-in-github",
        "colab_type": "text"
      },
      "source": [
        "<a href=\"https://colab.research.google.com/github/Pfrancisco22/Taller-N-4/blob/main/EJERCIO_03.ipynb\" target=\"_parent\"><img src=\"https://colab.research.google.com/assets/colab-badge.svg\" alt=\"Open In Colab\"/></a>"
      ]
    },
    {
      "cell_type": "markdown",
      "source": [
        "ALGORITMO JUEGO DE CARA O SELLO\n",
        "1. INICIO\n",
        "2.Inicio del juego\n",
        "Inicializar puntos a 0.\n",
        "Inicializar intentos a 3.\n",
        "Preguntar al usuario si quiere jugar.\n",
        "Si la respuesta es \"no\", terminar el juego.\n",
        "3.Objetivo principal del juego\n",
        "Mientras el usuario quiera jugar:\n",
        "Seleccionar aleatoriamente \"cara\" o \"sello\".\n",
        "4.Mientras intentos > 0:\n",
        "Pedir al usuario que adivine (ingresar \"cara\" o \"sello\").\n",
        "Comparar la adivinanza con la opción seleccionada.\n",
        "5.Si acierta:\n",
        "Incrementar puntos en 1.\n",
        "Informar al usuario que ha acertado y mostrar puntos.\n",
        "Salir del bucle de intentos.\n",
        "6.Si falla:\n",
        "Decrementar intentos.\n",
        "Informar al usuario que ha fallado y cuántos intentos le quedan.\n",
        "Si se han acabado los intentos, informar al usuario del puntaje total.\n",
        "Fin del juego\n",
        "Preguntar al usuario si quiere jugar de nuevo.\n",
        "Si \"sí\", reiniciar puntos y intentos, y repetir el bucle.\n",
        "Si \"no\", terminar el programa.\n",
        "7. FIN\n",
        "\n",
        "\n",
        " PSEUDOCODIGO\n",
        "\n",
        "INICIO\n",
        "puntos = 0\n",
        " intentos = 3\n",
        "HACER\n",
        "seleccionar aleatoriamente \"cara\" o \"sello\" y almacenar en \"resultado\" intentos = 3\n",
        "MIENTRAS intentos > 0 HACER\n",
        "PEDIR al usuario que adivine (\"cara\" o \"sello\")\n",
        "SI la adivinanza es igual a resultado ENTONCES\n",
        "puntos = puntos + 1\n",
        " MOSTRAR \"¡Correcto! Tienes puntos.\"\n",
        " SALIR\n",
        "SINO\n",
        "intentos = intentos – 1\n",
        "MOSTRAR \"Incorrecto. Te quedan intentos.\"\n",
        " FIN SI\n",
        " FIN MIENTRAS\n",
        "MOSTRAR \"Te has quedado sin intentos. Has conseguido puntos.\"\n",
        "PEDIR al usuario si quiere jugar de nuevo\n",
        "HASTA que la respuesta sea \"no\"\n",
        " FIN\n"
      ],
      "metadata": {
        "id": "2Y-3OdlnidND"
      }
    },
    {
      "cell_type": "code",
      "source": [
        "import random\n",
        "\n",
        "def jugar():\n",
        "    puntos = 0\n",
        "\n",
        "    while True:\n",
        "        intentos = 3\n",
        "        resultado = random.choice([\"cara\", \"sello\"])\n",
        "\n",
        "        while intentos > 0:\n",
        "            adivinanza = input(\"Adivina 'cara' o 'sello': \").lower()\n",
        "\n",
        "            if adivinanza == resultado:\n",
        "                puntos += 1\n",
        "                print(f\"¡Correcto! Tienes {puntos} puntos.\")\n",
        "                break\n",
        "            else:\n",
        "                intentos -= 1\n",
        "                print(f\"Incorrecto. Te quedan {intentos} intentos.\")\n",
        "\n",
        "        if intentos == 0:\n",
        "            print(f\"Te has quedado sin intentos. Has conseguido {puntos} puntos.\")\n",
        "\n",
        "        jugar_de_nuevo = input(\"¿Quieres jugar de nuevo? (sí/no): \").lower()\n",
        "        if jugar_de_nuevo != \"sí\":\n",
        "            break\n",
        "\n",
        "if __name__ == \"__main__\":\n",
        "    jugar()"
      ],
      "metadata": {
        "id": "bT5xkM5DikzV"
      },
      "execution_count": null,
      "outputs": []
    }
  ]
}