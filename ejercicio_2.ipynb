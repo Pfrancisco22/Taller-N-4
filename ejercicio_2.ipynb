{
  "nbformat": 4,
  "nbformat_minor": 0,
  "metadata": {
    "colab": {
      "provenance": [],
      "authorship_tag": "ABX9TyMxp+Al40thWMsjJ27CqN4F",
      "include_colab_link": true
    },
    "kernelspec": {
      "name": "python3",
      "display_name": "Python 3"
    },
    "language_info": {
      "name": "python"
    }
  },
  "cells": [
    {
      "cell_type": "markdown",
      "metadata": {
        "id": "view-in-github",
        "colab_type": "text"
      },
      "source": [
        "<a href=\"https://colab.research.google.com/github/Pfrancisco22/Taller-N-4/blob/main/ejercicio_2.ipynb\" target=\"_parent\"><img src=\"https://colab.research.google.com/assets/colab-badge.svg\" alt=\"Open In Colab\"/></a>"
      ]
    },
    {
      "cell_type": "code",
      "source": [
        "calificaciones = []\n",
        "peso = []\n",
        "\n",
        "while True:\n",
        "    calificacion = float(input(\"Ingrese una calificación: \"))\n",
        "    peso = float(input(\"Ingrese el pesos (en %): \"))\n",
        "\n",
        "    calificaciones.append(calificacion)\n",
        "    pesos.append(peso / 100)\n",
        "\n",
        "    respuesta = input(\"¿Desea ingresar otra calificación? (si/no): \")\n",
        "    if respuesta.lower() != \"si\":\n",
        "        break\n",
        "\n",
        "pesos_total = sum(pesos)\n",
        "if peso_total == 0:\n",
        "    print(\"El peso total es cero. No se puede calcular el promedio ponderado.\")\n",
        "else:\n",
        "    suma_ponderada = sum(c * p for c, p in zip(calificaciones, pesos))\n",
        "    promedio_ponderado = suma_ponderada / peso_total\n",
        "    promedio_ponderado = promedio_ponderado / 3\n",
        "    print(f\"El promedio ponderado es: {promedio_ponderado:.2f}\")"
      ],
      "metadata": {
        "colab": {
          "base_uri": "https://localhost:8080/"
        },
        "id": "byJEjTbVV6QT",
        "outputId": "1c1e519a-4604-4c62-d778-43d39b09a989"
      },
      "execution_count": 41,
      "outputs": [
        {
          "output_type": "stream",
          "name": "stdout",
          "text": [
            "Ingrese una calificación: 3.8\n",
            "Ingrese el pesos (en %): 40\n",
            "¿Desea ingresar otra calificación? (si/no): si\n",
            "Ingrese una calificación: 4.2\n",
            "Ingrese el pesos (en %): 35\n",
            "¿Desea ingresar otra calificación? (si/no): si\n",
            "Ingrese una calificación: 4.0\n",
            "Ingrese el pesos (en %): 50\n",
            "¿Desea ingresar otra calificación? (si/no): no\n",
            "El promedio ponderado es: 4.00\n"
          ]
        }
      ]
    }
  ]
}